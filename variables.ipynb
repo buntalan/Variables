{
 "cells": [
  {
   "cell_type": "markdown",
   "metadata": {},
   "source": [
    "# Objective\n",
    "- Gain an evidence-based understanding of how variables behave in Python. \n",
    "    - Explore how setting two variables to the same value may (or may not) mean a deeper connection. \n",
    "\n",
    "# Importance to project\n",
    "- The activites in the milstone will help see how variables (both mutable and immutable) behave when set to the same value. With this understanding of the problem, you will be able to finish the project an reveal the truth about how Python variables function. \n",
    "\n",
    "# Workflow\n",
    "1. Write code to discover teh extend of the puzzling behavior, creating and modifying pairs of variables with different types in Python. \n",
    "- Include variables like int, float, ect.\n",
    "- Create one variable, then ceate a second variable tha is equal to the first. \n",
    "- Change one of two variables and see what happens. If the type allows it, try changing both the contents (an element in a list or dictionary) as well as setting it equal to a new object. \n",
    "2. State your understanding of the ways Python variables behave. "
   ]
  },
  {
   "cell_type": "code",
   "execution_count": 11,
   "metadata": {},
   "outputs": [
    {
     "name": "stdout",
     "output_type": "stream",
     "text": [
      "int\n",
      "a = 1, 4320173128 b = 1, 4320173128\n",
      "Changing a\n",
      "a = 2, 4320173160 b = 1, 4320173128\n"
     ]
    }
   ],
   "source": [
    "# int\n",
    "print(\"int\")\n",
    "a = 1\n",
    "b = a\n",
    "print(f\"a = {a}, {id(a)}\", f\"b = {b}, {id(b)}\")\n",
    "a = 2\n",
    "print(\"Changing a\")\n",
    "print(f\"a = {a}, {id(a)}\", f\"b = {b}, {id(b)}\")"
   ]
  },
  {
   "cell_type": "code",
   "execution_count": 12,
   "metadata": {},
   "outputs": [
    {
     "name": "stdout",
     "output_type": "stream",
     "text": [
      "float\n",
      "a = 1.1, 4350294352 b = 1.1, 4350294352\n",
      "Changing a\n",
      "a = 2.2, 4348470288 b = 1.1, 4350294352\n"
     ]
    }
   ],
   "source": [
    "# float\n",
    "print(\"float\")\n",
    "a = 1.1\n",
    "b = a\n",
    "print(f\"a = {a}, {id(a)}\", f\"b = {b}, {id(b)}\")\n",
    "a = 2.2\n",
    "print(\"Changing a to different value\")\n",
    "print(f\"a = {a}, {id(a)}\", f\"b = {b}, {id(b)}\")"
   ]
  },
  {
   "cell_type": "code",
   "execution_count": 13,
   "metadata": {},
   "outputs": [
    {
     "name": "stdout",
     "output_type": "stream",
     "text": [
      "str\n",
      "a = dog, 4353137168 b = dog, 4353137168\n",
      "Changing a\n",
      "a = dog, 4353137168 b = cat, 4300023744\n"
     ]
    }
   ],
   "source": [
    "\n",
    "# str\n",
    "print(\"str\")\n",
    "a = \"dog\"\n",
    "b = a\n",
    "print(f\"a = {a}, {id(a)}\", f\"b = {b}, {id(b)}\")\n",
    "a = \"cat\"\n",
    "# b[0] = \"b\" ### Cannot do this, string is immutable. \n",
    "print(\"Changing a\")\n",
    "print(f\"a = {a}, {id(a)}\", f\"b = {b}, {id(b)}\")"
   ]
  },
  {
   "cell_type": "code",
   "execution_count": 14,
   "metadata": {},
   "outputs": [
    {
     "name": "stdout",
     "output_type": "stream",
     "text": [
      "list\n",
      "a = [1, 2, 3], 4353285312 b = [1, 2, 3], 4353285312\n",
      "Changing a and b\n",
      "a = [0, 2, 3, 4], 4353285312 b = [0, 2, 3, 4], 4353285312\n"
     ]
    }
   ],
   "source": [
    "# list\n",
    "print(\"list\")\n",
    "a = [1, 2 ,3]\n",
    "b = a\n",
    "print(f\"a = {a}, {id(a)}\", f\"b = {b}, {id(b)}\")\n",
    "a.append(4)\n",
    "b[0] = 0\n",
    "print(\"Changing a and b\")\n",
    "print(f\"a = {a}, {id(a)}\", f\"b = {b}, {id(b)}\")"
   ]
  },
  {
   "cell_type": "code",
   "execution_count": 15,
   "metadata": {},
   "outputs": [
    {
     "name": "stdout",
     "output_type": "stream",
     "text": [
      "tuple\n",
      "a = (1, 2, 3), 4353224576 b = (1, 2, 3), 4353224576\n",
      "Changing a\n",
      "a = (4, 5, 6), 4420902144 b = (1, 2, 3), 4353224576\n"
     ]
    }
   ],
   "source": [
    "# tuple\n",
    "print(\"tuple\")\n",
    "a = (1, 2, 3)\n",
    "b = a\n",
    "print(f\"a = {a}, {id(a)}\", f\"b = {b}, {id(b)}\")\n",
    "a = (4, 5, 6)\n",
    "print(\"Changing a\")\n",
    "print(f\"a = {a}, {id(a)}\", f\"b = {b}, {id(b)}\")"
   ]
  },
  {
   "cell_type": "code",
   "execution_count": 16,
   "metadata": {},
   "outputs": [
    {
     "name": "stdout",
     "output_type": "stream",
     "text": [
      "dict\n",
      "a = {'dog': 100, 'cat': 200}, 4421094720 b = {'dog': 100, 'cat': 200}, 4421094720\n",
      "Changing a and b\n",
      "a = {'cat': 200, 'fish': 300}, 4421094720 b = {'cat': 200, 'fish': 300}, 4421094720\n"
     ]
    }
   ],
   "source": [
    "# dict\n",
    "print(\"dict\")\n",
    "a = {'dog': 100, 'cat': 200}\n",
    "b = a\n",
    "print(f\"a = {a}, {id(a)}\", f\"b = {b}, {id(b)}\")\n",
    "del a['dog']\n",
    "b['fish'] = 300\n",
    "print(\"Changing a and b\")\n",
    "print(f\"a = {a}, {id(a)}\", f\"b = {b}, {id(b)}\")"
   ]
  },
  {
   "cell_type": "markdown",
   "metadata": {},
   "source": [
    "# My Understanding\n",
    "Variables contain the address of data. When changing the contents a variable, it will point the variable's contained address to the new data if the datatype is immutable. However, for mutable datatypes, changing the original (a) does not create a new instance but instead changes the value of data. \n",
    "\n",
    "For second question, variables seem to function more like labels. It's not a container itself, but a label to a container in memory. Use of id() on mutable data type is one way to prove this. When a mutable variable is changed, the id remains the same. It points to the same container of data, thus can point to the same area in memory. However, when used on a immutable data type, data has to be recreated and the variable is assigned a new spot in memory. Another way to look at this is if you assign a variable the number 2, and then assign another variable the number 2. If you look at the id of both variables, they are the same. Python handles this in the background by pointing both labels to the same container to save memory. If both variables were treated like containers, then the two variables would have different ids.  "
   ]
  }
 ],
 "metadata": {
  "kernelspec": {
   "display_name": "variables",
   "language": "python",
   "name": "python3"
  },
  "language_info": {
   "codemirror_mode": {
    "name": "ipython",
    "version": 3
   },
   "file_extension": ".py",
   "mimetype": "text/x-python",
   "name": "python",
   "nbconvert_exporter": "python",
   "pygments_lexer": "ipython3",
   "version": "3.12.3"
  }
 },
 "nbformat": 4,
 "nbformat_minor": 2
}
