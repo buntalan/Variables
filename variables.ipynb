{
 "cells": [
  {
   "cell_type": "markdown",
   "metadata": {},
   "source": [
    "# Objective\n",
    "- Gain an evidence-based understanding of how variables behave in Python. \n",
    "    - Explore how setting two variables to the same value may (or may not) mean a deeper connection. \n",
    "\n",
    "# Importance to project\n",
    "- The activites in the milstone will help see how variables (both mutable and immutable) behave when set to the same value. With this understanding of the problem, you will be able to finish the project an reveal the truth about how Python variables function. \n",
    "\n",
    "# Workflow\n",
    "1. Write code to discover teh extend of the puzzling behavior, creating and modifying pairs of variables with different types in Python. \n",
    "- Include variables like int, float, ect.\n",
    "- Create one variable, then ceate a second variable tha is equal to the first. \n",
    "- Change one of two variables and see what happens. If the type allows it, try changing both the contents (an element in a list or dictionary) as well as setting it equal to a new object. \n",
    "2. State your understanding of the ways Python variables behave. "
   ]
  },
  {
   "cell_type": "code",
   "execution_count": 15,
   "metadata": {},
   "outputs": [
    {
     "name": "stdout",
     "output_type": "stream",
     "text": [
      "int\n",
      "a =  1 b =  1\n",
      "Changing a\n",
      "a =  2 b =  1 \n",
      "\n",
      "float\n",
      "a =  1.1 b =  1.1\n",
      "Changing a\n",
      "a =  2.2 b =  1.1 \n",
      "\n",
      "str\n",
      "a =  dog b =  dog\n",
      "Changing a\n",
      "a =  cat b =  dog \n",
      "\n",
      "list\n",
      "a =  [1, 2, 3] b =  [1, 2, 3]\n",
      "Changing a and b\n",
      "a =  [4, 5, 6] b =  [0, 2, 3] \n",
      "\n",
      "tuple\n",
      "a =  (1, 2, 3) b =  (1, 2, 3)\n",
      "Changing a\n",
      "a =  (4, 5, 6) b =  (1, 2, 3) \n",
      "\n",
      "dict\n",
      "a =  {'dog': 100, 'cat': 200} b =  {'dog': 100, 'cat': 200}\n",
      "Changing a and b\n",
      "a =  {'cat': 200, 'fish': 300} b =  {'cat': 200, 'fish': 300} \n",
      "\n"
     ]
    }
   ],
   "source": [
    "# int\n",
    "print(\"int\")\n",
    "a = 1\n",
    "b = a\n",
    "print(\"a = \", a, \"b = \", b)\n",
    "a = 2\n",
    "print(\"Changing a\")\n",
    "print(\"a = \", a, \"b = \", b, \"\\n\")\n",
    "\n"
   ]
  },
  {
   "cell_type": "code",
   "execution_count": null,
   "metadata": {},
   "outputs": [],
   "source": [
    "# float\n",
    "print(\"float\")\n",
    "a = 1.1\n",
    "b = a\n",
    "print(\"a = \", a, \"b = \", b)\n",
    "a = 2.2\n",
    "print(\"Changing a\")\n",
    "print(\"a = \", a, \"b = \", b, \"\\n\")"
   ]
  },
  {
   "cell_type": "code",
   "execution_count": null,
   "metadata": {},
   "outputs": [],
   "source": [
    "\n",
    "# str\n",
    "print(\"str\")\n",
    "a = \"dog\"\n",
    "b = a\n",
    "print(\"a = \", a, \"b = \", b)\n",
    "a = \"cat\"\n",
    "# b[0] = \"b\" ### Cannot do this, string is immutable. \n",
    "print(\"Changing a\")\n",
    "print(\"a = \", a, \"b = \", b, \"\\n\")\n"
   ]
  },
  {
   "cell_type": "code",
   "execution_count": null,
   "metadata": {},
   "outputs": [],
   "source": [
    "# list\n",
    "print(\"list\")\n",
    "a = [1, 2 ,3]\n",
    "b = a\n",
    "print(\"a = \", a, \"b = \", b)\n",
    "a = [4, 5, 6]\n",
    "b[0] = 0\n",
    "print(\"Changing a and b\")\n",
    "print(\"a = \", a, \"b = \", b, \"\\n\")\n"
   ]
  },
  {
   "cell_type": "code",
   "execution_count": null,
   "metadata": {},
   "outputs": [],
   "source": [
    "# tuple\n",
    "print(\"tuple\")\n",
    "a = (1, 2, 3)\n",
    "b = a\n",
    "print(\"a = \", a, \"b = \", b)\n",
    "a = (4, 5, 6)\n",
    "print(\"Changing a\")\n",
    "print(\"a = \", a, \"b = \", b, \"\\n\")"
   ]
  },
  {
   "cell_type": "code",
   "execution_count": 16,
   "metadata": {},
   "outputs": [
    {
     "name": "stdout",
     "output_type": "stream",
     "text": [
      "dict\n",
      "a =  {'dog': 100, 'cat': 200} b =  {'dog': 100, 'cat': 200}\n",
      "Changing a and b\n",
      "a =  {'cat': 200, 'fish': 300} b =  {'cat': 200, 'fish': 300} \n",
      "\n"
     ]
    }
   ],
   "source": [
    "# dict\n",
    "print(\"dict\")\n",
    "a = {'dog': 100, 'cat': 200}\n",
    "b = a\n",
    "print(\"a = \", a, \"b = \", b)\n",
    "del a['dog']\n",
    "b['fish'] = 300\n",
    "print(\"Changing a and b\")\n",
    "print(\"a = \", a, \"b = \", b, \"\\n\")"
   ]
  },
  {
   "cell_type": "markdown",
   "metadata": {},
   "source": [
    "# My Understanding\n",
    "Variables contain the address of data. When reassigning a variable, it will point the variable's contained adress to the new data. "
   ]
  }
 ],
 "metadata": {
  "kernelspec": {
   "display_name": "variables",
   "language": "python",
   "name": "python3"
  },
  "language_info": {
   "codemirror_mode": {
    "name": "ipython",
    "version": 3
   },
   "file_extension": ".py",
   "mimetype": "text/x-python",
   "name": "python",
   "nbconvert_exporter": "python",
   "pygments_lexer": "ipython3",
   "version": "3.12.3"
  }
 },
 "nbformat": 4,
 "nbformat_minor": 2
}
